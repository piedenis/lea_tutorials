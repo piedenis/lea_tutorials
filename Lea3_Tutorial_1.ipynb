{
  "nbformat": 4,
  "nbformat_minor": 0,
  "metadata": {
    "colab": {
      "name": "Lea3_Tutorial_1.ipynb",
      "provenance": [],
      "collapsed_sections": []
    },
    "kernelspec": {
      "name": "python3",
      "display_name": "Python 3"
    }
  },
  "cells": [
    {
      "cell_type": "markdown",
      "metadata": {
        "id": "1",
        "colab_type": "text"
      },
      "source": [
        "![leas3_title_1.png](http://bitbucket.org/repo/BpoAoj/images/1604076943-leas3_title_1.png)\n",
        "\n",
        "**Jupyter Notebook**\n",
        "\n",
        "# Introduction\n",
        "\n",
        "The present Jupyter Notebook tutorial explains how to use the **Lea 3** package, through a sequence of simple examples.\n",
        "\n",
        "All you have to do is reading the explanations and clicking the **Run cell** buttons: this shall execute the statement(s) just beside. All the example statements are editable. You are kindly invited to change them and make your own experiments!"
      ]
    },
    {
      "cell_type": "markdown",
      "metadata": {
        "id": "2",
        "colab_type": "text"
      },
      "source": [
        "## What is Lea?\n",
        "\n",
        "Lea is a Python library for dealing with discrete probability distributions in a simple way.\n",
        "\n",
        "Lea allows you modeling a broad range of random phenomena, like gambling, weather, finance, etc. It lets you define random variables with given probability distributions on any Python object; then, these random variables can be combined together using usual arithmetic, comparison, logical operators, joints, conditional probability and even user-defined functions. Lea can then calculate the probability distributions on these derived random variables; it provides also usual probability indicators (e.g. the mean and the variance) and measures from information theory (e.g. the entropy). Generation of random samples can be performed on any probability distribution, even non-uniform. Advanced functions let you build up probabilistic models using joint probability distributions (JPD), conditional probability tables (CPT), Bayes networks and Markov chains. Lea is definitely a toolkit for *probabilistic\n",
        "programming*.\n",
        "\n",
        "Lea is designed to be easy to use, putting the focus on the expressiveness of the models and hiding as much as possible the underlying mathematics. It can be used as a toolkit for teaching probability theory and probabilistic programming.\n",
        "\n",
        "Lea, as of version 3, offers different ways to represent probabilities, including floating-point numbers, fractions and even symbolic variables (thanks to [SymPy](http://www.sympy.org) library). You can easily switch from one representation to another. Whatever the probability representation, the same calculation algorithm is used, producing results with the probability type you've chosen.\n",
        "\n",
        "The probability calculation in Lea is performed through an original algorithm, the *Statues algorithm*, which is based on generators and variable binding. This algorithm performs *exact calculation*. The implementation has been tuned to optimize the CPU. However, should the combinatorial become prohibitively large, an approximate algorithm based on Monte-Carlo sampling is also available.\n",
        "\n",
        "Lea is a _pure Python_ library. Most of the functions do not require installation of other packages. For advanced functions however, you may take advantage of the following optional libraries (these are automatically detected and integrated when you use Lea): [matplotlib](http://matplotlib.org) for plotting histograms, [SymPy](http://www.sympy.org) for symbolic calculations and [pandas](http://pandas.pydata.org) for building joint probability distributions. Note that these three libraries are part of the [Anaconda distribution](http://www.anaconda.com); so, if you install Lea within your Anaconda environment, then you have access to all Lea features without worrying about installation.\n",
        "\n",
        "Lea runs on Python 2.6, 2.7 or 3.x.\n",
        "\n",
        "Lea is available under LGPL license.\n",
        "\n",
        "The [Lea project page](https://bitbucket.org/piedenis/lea) provides detailed information and other tutorial pages (see [wiki page](https://bitbucket.org/piedenis/lea/wiki/Home))."
      ]
    },
    {
      "cell_type": "markdown",
      "metadata": {
        "id": "3",
        "colab_type": "text"
      },
      "source": [
        "## Prerequisites\n",
        "\n",
        "\n",
        "Before running the examples below, you have to import the `lea` module:"
      ]
    },
    {
      "cell_type": "code",
      "metadata": {
        "id": "6",
        "colab_type": "code",
        "colab": {}
      },
      "source": [
        "import lea"
      ],
      "execution_count": 0,
      "outputs": []
    },
    {
      "cell_type": "markdown",
      "metadata": {
        "id": "e0mmcJ-4lyoC",
        "colab_type": "text"
      },
      "source": [
        "This shall import the latest Lea 3.x, the baseline for the present tutorial.\n",
        "\n",
        "Later, when you are used to Lea functions, you could also use the alternative form:\n",
        "\n",
        "```from lea import *```\n",
        "\n",
        "and then, you can omit the `lea.` prefix in all the examples.\n",
        "\n",
        "**Note**: if the import fails, then it means that the lea module is not installed on your Jupyter server. In such case, execute the following `pip` command:"
      ]
    },
    {
      "cell_type": "code",
      "metadata": {
        "id": "iTqfPTPy9_hJ",
        "colab_type": "code",
        "colab": {}
      },
      "source": [
        "!pip install lea"
      ],
      "execution_count": 0,
      "outputs": []
    },
    {
      "cell_type": "markdown",
      "metadata": {
        "id": "7",
        "colab_type": "text"
      },
      "source": [
        "and retry the `import lea` statement above. Also, if you have module dependency issues with some examples, you may probably have to install the missing module(s) using using similar `pip install ...` statements for [matplotlib](http://matplotlib.org), [SymPy](http://www.sympy.org) or [pandas](http://pandas.pydata.org). These libraries can be installed at any time, independently each from each other, without reinstalling Lea."
      ]
    },
    {
      "cell_type": "markdown",
      "metadata": {
        "id": "mapluy24vE9u",
        "colab_type": "text"
      },
      "source": [
        "# Defining discrete probability distributions\n",
        "The first thing to do when working with Lea is to define a probability distribution that models a given phenomenon. In Lea, probability distributions are discrete and finite; internally, any probability distribution X is defined by a collection of associations v : P(X=v), which defines for any possible value v of X, the probability that X=v. Such collection is named a probability mass function or, for short, a pmf. So, in Lea, defining a probability distribution means defining a pmf.\n",
        "\n",
        "There are essentially three ways to define such pmf:\n",
        "\n",
        "* providing a collection of values assumed to be equiprobable,\n",
        "* providing an explicit pmf,\n",
        "* using predefined standard functions (binomial, poisson, etc.).\n",
        "\n",
        "Whatever the chosen method, the result is a new probability distribution, defined by a probability mass function associating each possible value to the probability that it occurs.\n",
        "\n",
        "We explain hereafter how these 3 approaches can be followed in Lea."
      ]
    },
    {
      "cell_type": "markdown",
      "metadata": {
        "id": "14",
        "colab_type": "text"
      },
      "source": [
        "## Definition by values (`vals`, `interval` functions)\n",
        "\n",
        "The simplest way to define a Lea distribution is by providing a collection of values. The `vals(...)` function does that job. As an example, the following statement defines the result of coin flipping, assuming fair chances to get head or tail:"
      ]
    },
    {
      "cell_type": "code",
      "metadata": {
        "id": "15",
        "colab_type": "code",
        "colab": {}
      },
      "source": [
        "flip = lea.vals('Head','Tail')"
      ],
      "execution_count": 0,
      "outputs": []
    },
    {
      "cell_type": "markdown",
      "metadata": {
        "id": "16",
        "colab_type": "text"
      },
      "source": [
        "If each value occurs exactly once in the given arguments, then you get a uniform probability distribution: each value has the same occurrence probability, which is 1/_N_ where _N_ is the number of given values. If some values occur multiple times in the given argument, then the associated probability of a given value is its frequency (see below).\n",
        "\n",
        "*Note: All functions presented here are documented in the [Lea 3 API page](http://drive.google.com/file/d/13ROrVkjbRRESTl2KF-xXRrKsikQAm_Eg/view?usp=sharing). Note that you must download the HTML file and open it afterward (no online rendering!).*\n",
        "\n",
        "The pmf distribution can be displayed simply by entering its name. This displays the different values, in sorted order, with their respective probabilities:"
      ]
    },
    {
      "cell_type": "code",
      "metadata": {
        "id": "17",
        "colab_type": "code",
        "colab": {}
      },
      "source": [
        "flip"
      ],
      "execution_count": 0,
      "outputs": []
    },
    {
      "cell_type": "markdown",
      "metadata": {
        "id": "18",
        "colab_type": "text"
      },
      "source": [
        "If you use Lea in a script instead of the interactive console, then you'll have simply to use the `print` function to get the same output:"
      ]
    },
    {
      "cell_type": "code",
      "metadata": {
        "id": "19",
        "colab_type": "code",
        "colab": {}
      },
      "source": [
        "print (flip)"
      ],
      "execution_count": 0,
      "outputs": []
    },
    {
      "cell_type": "markdown",
      "metadata": {
        "id": "20",
        "colab_type": "text"
      },
      "source": [
        "Note that Lea fully complies with the axioms of probability: each displayed probability is between 0 and 1, the total of probabilities displayed for a given distribution is equal to 1 (or, due to rounding errors, something very close to 1).\n",
        "\n",
        "If the same value occurs several times in the arguments, then its probability of this value is proportional to its number of occurrences. For instance, an unfair coin can be defined by the following statement:"
      ]
    },
    {
      "cell_type": "code",
      "metadata": {
        "id": "21",
        "colab_type": "code",
        "colab": {}
      },
      "source": [
        "biased_flip = lea.vals('Head','Tail','Tail')\n",
        "biased_flip"
      ],
      "execution_count": 0,
      "outputs": []
    },
    {
      "cell_type": "markdown",
      "metadata": {
        "id": "24",
        "colab_type": "text"
      },
      "source": [
        "Since the value 'Tail' is provided twice, it has two more chances to occur than 'Head', which occurs only once.\n",
        "\n",
        "We will show later in this tutorial that this feature of repeated values shall prove handy for determining frequencies of values in a given sample.\n",
        "\n",
        "You can associate probabilities to Python objects of any type, provided that it is _hashable_ (which is the case for most Python types). Consider for example a fair die with six faces. It is natural to model this die with integers from 1 to 6:"
      ]
    },
    {
      "cell_type": "code",
      "metadata": {
        "id": "25",
        "colab_type": "code",
        "colab": {}
      },
      "source": [
        "die = lea.vals(1,2,3,4,5,6)\n",
        "die"
      ],
      "execution_count": 0,
      "outputs": []
    },
    {
      "cell_type": "markdown",
      "metadata": {
        "id": "26",
        "colab_type": "text"
      },
      "source": [
        "If you have already prepared a collection of values (i.e. something _iterable_ like Python's tuple, list, set, iterator, range, â€¦), then you have simply to add an asterisk to expand the arguments. For example, the following statements are equivalent and create the same die distribution as above:"
      ]
    },
    {
      "cell_type": "code",
      "metadata": {
        "id": "27",
        "colab_type": "code",
        "colab": {}
      },
      "source": [
        "my_tuple = (1,2,3,4,5,6)\n",
        "die = lea.vals(*my_tuple)\n",
        "die"
      ],
      "execution_count": 0,
      "outputs": []
    },
    {
      "cell_type": "code",
      "metadata": {
        "id": "7ukMO-J3z1Wy",
        "colab_type": "code",
        "colab": {}
      },
      "source": [
        "lea.vals(*range(1,7))"
      ],
      "execution_count": 0,
      "outputs": []
    },
    {
      "cell_type": "markdown",
      "metadata": {
        "id": "28",
        "colab_type": "text"
      },
      "source": [
        "or, using Python's list comprehension / generator expressions,"
      ]
    },
    {
      "cell_type": "code",
      "metadata": {
        "id": "29",
        "colab_type": "code",
        "colab": {}
      },
      "source": [
        "lea.vals(*[v+1 for v in range(6)])"
      ],
      "execution_count": 0,
      "outputs": []
    },
    {
      "cell_type": "code",
      "metadata": {
        "colab_type": "code",
        "id": "qZD15O9oznPH",
        "colab": {}
      },
      "source": [
        "lea.vals(*(6-v for v in range(6)))"
      ],
      "execution_count": 0,
      "outputs": []
    },
    {
      "cell_type": "markdown",
      "metadata": {
        "id": "30",
        "colab_type": "text"
      },
      "source": [
        "You can see on the last example that, whatever the order in the definition, the values displayed are automatically sorted. To prevent this behavior and keep the values in the order you want, use the `ordered` keyword argument:"
      ]
    },
    {
      "cell_type": "code",
      "metadata": {
        "id": "31",
        "colab_type": "code",
        "colab": {}
      },
      "source": [
        "lea.vals(1,6,2,5,3,4,ordered=True)"
      ],
      "execution_count": 0,
      "outputs": []
    },
    {
      "cell_type": "markdown",
      "metadata": {
        "id": "32",
        "colab_type": "text"
      },
      "source": [
        "Note that this `ordered=True` option just affects the display, not the mathematical meaning of the probability definition. Note also that this option requires that all given values occur only once (otherwise, an exception is raised).\n",
        "\n",
        "For the specific case of sequences of equiprobable integers, which is typical for dice, Lea provides a convenience method, `interval(a,b)`. It generates integers from `a` to `b` inclusive:"
      ]
    },
    {
      "cell_type": "code",
      "metadata": {
        "id": "33",
        "colab_type": "code",
        "colab": {}
      },
      "source": [
        "lea.interval(1,6)"
      ],
      "execution_count": 0,
      "outputs": []
    },
    {
      "cell_type": "markdown",
      "metadata": {
        "id": "34",
        "colab_type": "text"
      },
      "source": [
        "To retrieve the probability of a given value `v`, use the `p(v)` method."
      ]
    },
    {
      "cell_type": "code",
      "metadata": {
        "id": "35",
        "colab_type": "code",
        "colab": {}
      },
      "source": [
        "biased_flip.p('Head')"
      ],
      "execution_count": 0,
      "outputs": []
    },
    {
      "cell_type": "code",
      "metadata": {
        "id": "XIMJvYYSyT5w",
        "colab_type": "code",
        "colab": {}
      },
      "source": [
        "die.p(5)"
      ],
      "execution_count": 0,
      "outputs": []
    },
    {
      "cell_type": "markdown",
      "metadata": {
        "id": "36",
        "colab_type": "text"
      },
      "source": [
        "The returned value is a regular float number, between 0 and 1, which you can then use in other calculations if needed. We'll see soon more powerful techniques to calculate probabilities from your distributions."
      ]
    },
    {
      "cell_type": "markdown",
      "metadata": {
        "id": "37",
        "colab_type": "text"
      },
      "source": [
        "## Definition by probability mass function (`pmf` function)\n",
        "\n",
        "Another way to define Lea distributions, which is the most general, is to use the `pmf(â€¦)` function, where the argument is a probability mass function made up of pairs (v,P(v)). This way of doing is especially handy for non-uniform distributions. The simplest way to proceed is to pass the pmf as a dictionary. For instance, the following statement defines the very same unfair coin as above."
      ]
    },
    {
      "cell_type": "code",
      "metadata": {
        "id": "38",
        "colab_type": "code",
        "colab": {}
      },
      "source": [
        "biased_flip = lea.pmf( {'Head': 1/3, 'Tail': 2/3} )\n",
        "biased_flip"
      ],
      "execution_count": 0,
      "outputs": []
    },
    {
      "cell_type": "markdown",
      "metadata": {
        "id": "39",
        "colab_type": "text"
      },
      "source": [
        "To enforce the correctness of the distribution, the `pmf` function divides all the given probabilities by their sum, before storing them. This process, called _normalization_, guarantees that the sum of all probabilities is equal to 1 (or as close as possible to 1 in case of rounding errors). Because of the automatic normalization, the same biased flip could also be defined with _weights_ or _counters_, i.e. numbers that are proportional to the desired probabilities:"
      ]
    },
    {
      "cell_type": "code",
      "metadata": {
        "id": "40",
        "colab_type": "code",
        "colab": {}
      },
      "source": [
        "lea.pmf( {'Head': 1, 'Tail': 2} )"
      ],
      "execution_count": 0,
      "outputs": []
    },
    {
      "cell_type": "markdown",
      "metadata": {
        "id": "41",
        "colab_type": "text"
      },
      "source": [
        "As alternative to dictionaries, you can also pass an iterable containing (v,P(v)) to `pmf(...)`."
      ]
    },
    {
      "cell_type": "code",
      "metadata": {
        "id": "42",
        "colab_type": "code",
        "colab": {}
      },
      "source": [
        "lea.pmf( (('Head',1/3),('Tail',2/3)) )"
      ],
      "execution_count": 0,
      "outputs": []
    },
    {
      "cell_type": "markdown",
      "metadata": {
        "id": "43",
        "colab_type": "text"
      },
      "source": [
        "One added value compared to dictionaries is that you can have multiple occurrences with the same value: the associated probabilities (or counters) are then added together:"
      ]
    },
    {
      "cell_type": "code",
      "metadata": {
        "id": "44",
        "colab_type": "code",
        "colab": {}
      },
      "source": [
        "lea.pmf( (('Head',1),('Tail',1),('Tail',1)) )"
      ],
      "execution_count": 0,
      "outputs": []
    },
    {
      "cell_type": "code",
      "metadata": {
        "id": "DbKBEDUk0Xti",
        "colab_type": "code",
        "colab": {}
      },
      "source": [
        "lea.pmf( (('Head',3),('Tail',1),('Tail',5)) )"
      ],
      "execution_count": 0,
      "outputs": []
    },
    {
      "cell_type": "markdown",
      "metadata": {
        "id": "45",
        "colab_type": "text"
      },
      "source": [
        "All definitions above produce the very same pmf.\n",
        "\n",
        "Note that if you have installed [matplotlib](http://www.matplotlib.org), you can display an histogram of the pmf of any probability distribution by invoking the `plot` method:"
      ]
    },
    {
      "cell_type": "code",
      "metadata": {
        "id": "46",
        "colab_type": "code",
        "colab": {}
      },
      "source": [
        "measure = lea.pmf({0: 0.05, 1: 0.15, 2: 0.25, 3: 0.4, 4: 0.15})\n",
        "measure.plot()"
      ],
      "execution_count": 0,
      "outputs": []
    },
    {
      "cell_type": "markdown",
      "metadata": {
        "id": "ysnKv4Gt0s8R",
        "colab_type": "text"
      },
      "source": [
        "If the plot is not displayed, you probably have to install the matplotlib package:"
      ]
    },
    {
      "cell_type": "code",
      "metadata": {
        "id": "UuNFzZ1j09pw",
        "colab_type": "code",
        "colab": {}
      },
      "source": [
        "!pip install matplotlib"
      ],
      "execution_count": 0,
      "outputs": []
    },
    {
      "cell_type": "markdown",
      "metadata": {
        "id": "48",
        "colab_type": "text"
      },
      "source": [
        "## More on normalization\n",
        "\n",
        "We have explained above that all the given probabilities are automatically normalized, by dividing them by their sum. There is however an alternative way to ensure the normalization of the pmf: you can ask the `pmf` function to calculate the probability of one given value by subtraction, so that the sum of probabilities equal 1. To do this, simply put a `None` probability for one given value: it will be replaced automatically by 1 minus the sum of other probabilities:"
      ]
    },
    {
      "cell_type": "code",
      "metadata": {
        "id": "49",
        "colab_type": "code",
        "colab": {}
      },
      "source": [
        "lea.pmf({0: 0.05, 1: 0.15, 2: 0.25, 3: 0.4, 4: None})"
      ],
      "execution_count": 0,
      "outputs": []
    },
    {
      "cell_type": "markdown",
      "metadata": {
        "id": "50",
        "colab_type": "text"
      },
      "source": [
        "You can see that this is the same distribution as `measure` defined above, if you ignore rounding errors. Note that this process does not perform any division; it keeps the given probabilities as-is, except the one set to `None`. We'll see that this feature is especially convenient when you deal with [Lea's symbolic computation](http://bitbucket.org/piedenis/lea/wiki/Lea3_Tutorial_3#markdown-header-symbolic-computation-with-probabilities).\n",
        "\n",
        "As a final note, if you have good reasons to keep your probabilities unaltered, it's possible to avoid any normalization: simply specify the argument `normalization=False` when invoking Lea constructors. Take care however that you can build objects that are not genuine probability distributions. For instance, you could use this feature on `vals` function to build a \"counter table\":"
      ]
    },
    {
      "cell_type": "code",
      "metadata": {
        "id": "51",
        "colab_type": "code",
        "colab": {}
      },
      "source": [
        "lea.vals(*\"ABRACADABRA\",normalization=False)"
      ],
      "execution_count": 0,
      "outputs": []
    },
    {
      "cell_type": "markdown",
      "metadata": {
        "id": "53",
        "colab_type": "text"
      },
      "source": [
        "## Probability of a single event (`event`, `P` functions)\n",
        "\n",
        "Based on what has been seen above, you may ask: this probability distribution thing is nice but how can I model a simple probability for a single event? For instance, how can I model that the probability of rain tomorrow is 27 %? The answer is to consider the event \"it will rain tomorrow\" as a boolean random variable, i.e. with given probabilities for True and False values:"
      ]
    },
    {
      "cell_type": "code",
      "metadata": {
        "id": "54",
        "colab_type": "code",
        "colab": {}
      },
      "source": [
        "rain = lea.pmf({True: 0.27, False: 0.73})\n",
        "rain"
      ],
      "execution_count": 0,
      "outputs": []
    },
    {
      "cell_type": "markdown",
      "metadata": {
        "id": "55",
        "colab_type": "text"
      },
      "source": [
        "There is of course something annoying here for both defining and displaying such distribution: the probability of False can trivially be derived from the probability of True (i.e. 1 - 0.27 = 0.73). A more convenient way to define such probability is to use the `event` function:"
      ]
    },
    {
      "cell_type": "code",
      "metadata": {
        "id": "56",
        "colab_type": "code",
        "colab": {}
      },
      "source": [
        "rain = lea.event(0.27)"
      ],
      "execution_count": 0,
      "outputs": []
    },
    {
      "cell_type": "markdown",
      "metadata": {
        "id": "57",
        "colab_type": "text"
      },
      "source": [
        "This results in the very same probability distribution as above, the probability of False being automatically calculated. Also, to get the single probability of True, you can use the `P` function:"
      ]
    },
    {
      "cell_type": "code",
      "metadata": {
        "id": "58",
        "colab_type": "code",
        "colab": {}
      },
      "source": [
        "lea.P(rain)"
      ],
      "execution_count": 0,
      "outputs": []
    },
    {
      "cell_type": "markdown",
      "metadata": {
        "id": "59",
        "colab_type": "text"
      },
      "source": [
        "or, equivalently, the `P` _attribute_:"
      ]
    },
    {
      "cell_type": "code",
      "metadata": {
        "id": "60",
        "colab_type": "code",
        "colab": {}
      },
      "source": [
        "rain.P"
      ],
      "execution_count": 0,
      "outputs": []
    },
    {
      "cell_type": "markdown",
      "metadata": {
        "id": "61",
        "colab_type": "text"
      },
      "source": [
        "These result in a single number (here floating-point), between 0 and 1. Note that these are just handy ways to get the same result as `rain.p(True)`.\n",
        "\n",
        "In summary, `event` and `P` are convenience functions for handling the probability of a single event, hiding the boolean probability distributions that is stored internally by Lea. We'll see later that the `P` function is very useful when combining probability distributions with comparison operators, like `==`, `<=`, etc. In the following, we shall assume that you have created an alias for the `P` function:"
      ]
    },
    {
      "cell_type": "code",
      "metadata": {
        "id": "62",
        "colab_type": "code",
        "colab": {}
      },
      "source": [
        "P = lea.P"
      ],
      "execution_count": 0,
      "outputs": []
    },
    {
      "cell_type": "markdown",
      "metadata": {
        "id": "63",
        "colab_type": "text"
      },
      "source": [
        "\n",
        "In addition to these generic constructors, Lea provides convenience functions for a couple of [standard probability distributions](https://bitbucket.org/piedenis/lea/wiki/Lea3_Tutorial_2#markdown-header-standard-probability-distributions), viz. Bernoulli, binomial and Poisson, as well as gambling gizmos.\n",
        "\n",
        "In the examples above, we have seen probability distributions with Python's strings, integers and Booleans being the values having some chances to occur. Actually, there are no limitation on the types of object that can be handled, provided that they have a hashing method: floats, complexes, tuples, vectors, date/times, user-defined objects, etc. Python's tuple type is especially useful for defining [joint probability distributions](https://bitbucket.org/piedenis/lea/wiki/Lea3_Tutorial_2#markdown-header-defining-joint-probability-distributions). Of course, depending of the type of objects you put in the distributions, some operations can become impossible to achieve; if you try to execute such operation then an exception shall be raised. For example, mean value can be calculated on a die distribution; it is impossible however to get a mean on the `flip` distribution ('Head'/'Tail'), since there isn't such concept of mean among character strings!\n",
        "\n",
        "Now, that you know how to build probability distributions, you will learn in the following what you can do with these distributions. This includes:\n",
        "\n",
        "* calculating standard indicators,\n",
        "* deriving new probability distributions,\n",
        "* evaluating probabilities of conditions,\n",
        "* evaluating conditional probabilities,\n",
        "* generating random samples.\n",
        "\n",
        "All the topics above are covered in the present tutorial page. Other topics including:\n",
        "\n",
        "* joint probability tables,\n",
        "* Bayesian networks,\n",
        "* Monte-Carlo sampling,\n",
        "* information theory,\n",
        "* changing probability representation,\n",
        "* symbolic probabilistic calculation\n",
        "\n",
        "are covered in [second part](https://bitbucket.org/piedenis/lea/wiki/Lea3_Tutorial_2) or [third part](https://bitbucket.org/piedenis/lea/wiki/Lea3_Tutorial_3) of the tutorial."
      ]
    },
    {
      "cell_type": "markdown",
      "metadata": {
        "id": "PvxTDWpU3ZJp",
        "colab_type": "text"
      },
      "source": [
        "# Probability distribution indicators (`mean`, `var`, `std`,  `mode`, `entropy` attributes)\n",
        "\n",
        "The following standard indicators are available on Lea probability distributions: mean, variance, standard deviation, mode and entropy. The three first indicators are demonstrated in the following examples:"
      ]
    },
    {
      "cell_type": "code",
      "metadata": {
        "id": "64",
        "colab_type": "code",
        "colab": {}
      },
      "source": [
        "die = lea.vals(1,2,3,4,5,6)\n",
        "die.mean"
      ],
      "execution_count": 0,
      "outputs": []
    },
    {
      "cell_type": "code",
      "metadata": {
        "id": "9KSYQf3_3jHY",
        "colab_type": "code",
        "colab": {}
      },
      "source": [
        "die.var"
      ],
      "execution_count": 0,
      "outputs": []
    },
    {
      "cell_type": "code",
      "metadata": {
        "id": "YatpYywa3i3r",
        "colab_type": "code",
        "colab": {}
      },
      "source": [
        "die.std"
      ],
      "execution_count": 0,
      "outputs": []
    },
    {
      "cell_type": "markdown",
      "metadata": {
        "id": "65",
        "colab_type": "text"
      },
      "source": [
        "\n",
        "Note that these three indicators require that 1° the values can be subtracted together, 2° the differences can be multiplied by floating-point numbers and 3° the weighted differences can be added to the values. These conditions are verified, among others, for distributions having values with numeric, matrix and datetime types. These are NOT verified, among others, for strings, functions, classes, objects without overloaded operations.\n",
        "\n",
        "The `mode` attribute returns a tuple giving the value(s) having the highest probability:"
      ]
    },
    {
      "cell_type": "code",
      "metadata": {
        "id": "66",
        "colab_type": "code",
        "colab": {}
      },
      "source": [
        "die.mode"
      ],
      "execution_count": 0,
      "outputs": []
    },
    {
      "cell_type": "code",
      "metadata": {
        "id": "_TwFiGZY38KR",
        "colab_type": "code",
        "colab": {}
      },
      "source": [
        "heights = lea.pmf(((0.5,1),(1.0,2),(1.5,4),(2.0,5),(2.5,5),(3.0,2),(3.5,1)))\n",
        "heights.mode"
      ],
      "execution_count": 0,
      "outputs": []
    },
    {
      "cell_type": "markdown",
      "metadata": {
        "id": "67",
        "colab_type": "text"
      },
      "source": [
        "This indicator requires of course that the values can be compared together.\n",
        "\n",
        "The entropy provides a measure of the degree of randomness of the distribution. For a given set of values, it is maximum for a uniform probability distribution (i.e. all values have equal probabilities); in this case, it is equal to the logarithm in base 2 of the number of values, the result is expressed in bits.  The `entropy` method is illustrated in the following statements."
      ]
    },
    {
      "cell_type": "code",
      "metadata": {
        "id": "68",
        "colab_type": "code",
        "colab": {}
      },
      "source": [
        "lea.event(0.5).entropy"
      ],
      "execution_count": 0,
      "outputs": []
    },
    {
      "cell_type": "code",
      "metadata": {
        "id": "1YGsb1lu4Vyy",
        "colab_type": "code",
        "colab": {}
      },
      "source": [
        "die = lea.vals(*(1,2,3,4,5,6))\n",
        "die.entropy"
      ],
      "execution_count": 0,
      "outputs": []
    },
    {
      "cell_type": "code",
      "metadata": {
        "id": "sffhU5NQ4VSO",
        "colab_type": "code",
        "colab": {}
      },
      "source": [
        "biased_die = lea.vals(*(1,2,3,4,5,6,6))\n",
        "biased_die.entropy"
      ],
      "execution_count": 0,
      "outputs": []
    },
    {
      "cell_type": "markdown",
      "metadata": {
        "id": "69",
        "colab_type": "text"
      },
      "source": [
        "You can verify that the entropy value of the loaded die (`biased_die`) is lower than the fair die's (`die`): the chances that the loaded die gives a 6 are twice than the chances of other numbers; so it is \"less random\" than the fair die.\n",
        "\n",
        "Note that the entropy is null for distributions having a certain, unique, value (i.e. with probability = 1)."
      ]
    },
    {
      "cell_type": "code",
      "metadata": {
        "id": "70",
        "colab_type": "code",
        "colab": {}
      },
      "source": [
        "lea.event(1).entropy         # certain True"
      ],
      "execution_count": 0,
      "outputs": []
    },
    {
      "cell_type": "code",
      "metadata": {
        "id": "DoW51Mp94i8z",
        "colab_type": "code",
        "colab": {}
      },
      "source": [
        "lea.event(0).entropy         # certain False"
      ],
      "execution_count": 0,
      "outputs": []
    },
    {
      "cell_type": "code",
      "metadata": {
        "id": "3ShsV7wj4imX",
        "colab_type": "code",
        "colab": {}
      },
      "source": [
        "lea.vals('truth').entropy    # certain 'truth'"
      ],
      "execution_count": 0,
      "outputs": []
    },
    {
      "cell_type": "markdown",
      "metadata": {
        "id": "71",
        "colab_type": "text"
      },
      "source": [
        "Note that the entropy calculation does not involve the values of the distribution; only the probabilities play a role. So, contrarily, to other indicators seen above (e.g. the mean), the entropy can _always_ be calculated, whatever the type of values.\n",
        "\n",
        "If you are interested in this topic, Lea provides other useful measures related to information theory, some of which involving conditional probabilities. These are presented in [the section dedicated to information theory in Lea advanced tutorial](http://bitbucket.org/piedenis/lea/wiki/Lea3_Tutorial_3#markdown-header-information-theory).\n",
        "\n",
        "# Random sampling (`random`, `random_draw` methods)\n",
        "\n",
        "Since Lea copes with randomness, you can legitimately expect means to generate random samples! The `random` method serves this purpose.\n",
        "\n",
        "Here is how to draw one random value from the fair die defined above:"
      ]
    },
    {
      "cell_type": "code",
      "metadata": {
        "id": "72",
        "colab_type": "code",
        "colab": {}
      },
      "source": [
        "die.random()"
      ],
      "execution_count": 0,
      "outputs": []
    },
    {
      "cell_type": "markdown",
      "metadata": {
        "id": "73",
        "colab_type": "text"
      },
      "source": [
        "You could interpret this as: \"Append `.random()` after a probability distribution and you get the associated _random variable_!\"\n",
        "\n",
        "Note: since we cope with randomness, the actual values you get here (as well as in the other examples of the present section) may be different!\n",
        "\n",
        "To generate a sample with a given number of random values, you provide the required sample's size:"
      ]
    },
    {
      "cell_type": "code",
      "metadata": {
        "id": "74",
        "colab_type": "code",
        "colab": {}
      },
      "source": [
        "die.random(20)"
      ],
      "execution_count": 0,
      "outputs": []
    },
    {
      "cell_type": "markdown",
      "metadata": {
        "id": "75",
        "colab_type": "text"
      },
      "source": [
        "The distribution of random values shall of course respect the given probability distribution. Let us make a random sample from the unfair die defined above."
      ]
    },
    {
      "cell_type": "code",
      "metadata": {
        "id": "76",
        "colab_type": "code",
        "colab": {}
      },
      "source": [
        "biased_die.random(20)"
      ],
      "execution_count": 0,
      "outputs": []
    },
    {
      "cell_type": "markdown",
      "metadata": {
        "id": "77",
        "colab_type": "text"
      },
      "source": [
        "We see that the value 6 _seems_ to occur more often, as we could have expected it. Generally speaking, as the random sample size grows, the frequency of occurrence of each value is expected to match closer and closer the probability distribution. In order to measure this trend - and to verify the correctness of Lea's random generator -, the `V` function can be used as a frequency counter. To illustrate this, let us generate a sample of 42,000 random values with the fair die and let us count the frequency of each value."
      ]
    },
    {
      "cell_type": "code",
      "metadata": {
        "id": "78",
        "colab_type": "code",
        "colab": {}
      },
      "source": [
        "sample1 = die.random(42000)\n",
        "die1_frequencies = lea.vals(*sample1)\n",
        "die1_frequencies"
      ],
      "execution_count": 0,
      "outputs": []
    },
    {
      "cell_type": "code",
      "metadata": {
        "id": "0kIRY4lL5gyz",
        "colab_type": "code",
        "colab": {}
      },
      "source": [
        "die1_frequencies.plot()"
      ],
      "execution_count": 0,
      "outputs": []
    },
    {
      "cell_type": "markdown",
      "metadata": {
        "id": "79",
        "colab_type": "text"
      },
      "source": [
        "We notice that the frequencies are all close to 1/6. So far, so good! By the way, do not forget the `*` to expand the sample tuple into arguments.\n",
        "\n",
        "Now, let us proceed similarly with the unfair die."
      ]
    },
    {
      "cell_type": "code",
      "metadata": {
        "id": "80",
        "colab_type": "code",
        "colab": {}
      },
      "source": [
        "sample2 = biased_die.random(42000)\n",
        "biased_die_frequencies = lea.vals(*sample2)\n",
        "biased_die_frequencies"
      ],
      "execution_count": 0,
      "outputs": []
    },
    {
      "cell_type": "code",
      "metadata": {
        "id": "te1Sk4x65yLv",
        "colab_type": "code",
        "colab": {}
      },
      "source": [
        "biased_die_frequencies.plot()"
      ],
      "execution_count": 0,
      "outputs": []
    },
    {
      "cell_type": "markdown",
      "metadata": {
        "id": "81",
        "colab_type": "text"
      },
      "source": [
        "You can verify here that the frequencies of 1, 2, 3, 4 and 5 are close to 1/7, while the frequency of 6 is close to 2/7.\n",
        "\n",
        "The random sampling works with any distribution, whatever the type of values. Here is an example with tossing of an unfair coin."
      ]
    },
    {
      "cell_type": "code",
      "metadata": {
        "id": "82",
        "colab_type": "code",
        "colab": {}
      },
      "source": [
        "biased_flip = lea.pmf({'Head':1,'Tail':2})\n",
        "biased_flip.random(10)"
      ],
      "execution_count": 0,
      "outputs": []
    },
    {
      "cell_type": "code",
      "metadata": {
        "id": "KYjBFhJt5_zM",
        "colab_type": "code",
        "colab": {}
      },
      "source": [
        "biased_flip_frequencies = lea.vals(*(biased_flip.random(100000)))\n",
        "biased_flip_frequencies"
      ],
      "execution_count": 0,
      "outputs": []
    },
    {
      "cell_type": "code",
      "metadata": {
        "id": "wmOgqEYc6isp",
        "colab_type": "code",
        "colab": {}
      },
      "source": [
        "biased_flip_frequencies.plot()"
      ],
      "execution_count": 0,
      "outputs": []
    },
    {
      "cell_type": "markdown",
      "metadata": {
        "id": "83",
        "colab_type": "text"
      },
      "source": [
        "You can verify that the frequency of Head in the 100,000 tosses sample is close to the defined probability 1/3.\n",
        "\n",
        "Some processes require that a given value is not drawn twice in a random sample. These are named \"draws without replacement\", which include many lottery games. The `random_draw` method is dedicated to such processes. As an example, imagine a fair lottery game with 45 balls, from which 6 balls shall be drawn."
      ]
    },
    {
      "cell_type": "code",
      "metadata": {
        "id": "84",
        "colab_type": "code",
        "colab": {}
      },
      "source": [
        "lottery = lea.interval(1,46)\n",
        "lottery.random_draw(6)"
      ],
      "execution_count": 0,
      "outputs": []
    },
    {
      "cell_type": "markdown",
      "metadata": {
        "id": "85",
        "colab_type": "text"
      },
      "source": [
        "This method guarantees that all drawn values are different. As a special case, if the argument of this method is the number of values, we get a random permutation of all the values. Note that this can be done also by omitting the argument:"
      ]
    },
    {
      "cell_type": "code",
      "metadata": {
        "id": "86",
        "colab_type": "code",
        "colab": {}
      },
      "source": [
        "lottery.random_draw(45)\n",
        "lottery.random_draw()"
      ],
      "execution_count": 0,
      "outputs": []
    },
    {
      "cell_type": "markdown",
      "metadata": {
        "id": "87",
        "colab_type": "text"
      },
      "source": [
        "Should the argument exceed the number of values, an exception is raised.\n",
        "\n",
        "Note that Lea's `random` and `random_draw` methods internally use the standard Python `random` module. This may be useful to know: you may wish to be able to produce the very same pseudo-random sequence for a demo, a course, a test suite, etc.; the Python `random.seed(...)` function can be helpful for this purpose:"
      ]
    },
    {
      "cell_type": "code",
      "metadata": {
        "id": "88",
        "colab_type": "code",
        "colab": {}
      },
      "source": [
        "import random\n",
        "random.seed(0)\n",
        "die.random(10)"
      ],
      "execution_count": 0,
      "outputs": []
    },
    {
      "cell_type": "code",
      "metadata": {
        "id": "tLM9INU77OrN",
        "colab_type": "code",
        "colab": {}
      },
      "source": [
        "random.seed(1)\n",
        "die.random(10)"
      ],
      "execution_count": 0,
      "outputs": []
    },
    {
      "cell_type": "code",
      "metadata": {
        "id": "fvX4xAa57XoQ",
        "colab_type": "code",
        "colab": {}
      },
      "source": [
        "random.seed(0)\n",
        "die.random(10)"
      ],
      "execution_count": 0,
      "outputs": []
    },
    {
      "cell_type": "markdown",
      "metadata": {
        "id": "89",
        "colab_type": "text"
      },
      "source": [
        "\n",
        "# Combining probability distributions\n",
        "\n",
        "The examples seen so far work with explicitly defined probability distributions. In many situations however, an uncertain phenomenon may results from the combination of other uncertain phenomena, which are easier to model and which have known probability distributions. Examples are:\n",
        "\n",
        "* adding the results of _N_ thrown dice,\n",
        "* counting the number of successes of _N_ trials,\n",
        "* evaluating the truth of a given condition made on uncertain events,\n",
        "* evaluating the joint occurrences of a given set of uncertain events,\n",
        "* calculating a given function with random variables as arguments.\n",
        "\n",
        "Without dedicated tools, these problems require careful calculations, made manually or by custom programs; this is usually tedious and error-prone. Fortunately, Lea can make these calculations for you, taking care of possible dependencies.\n",
        "\n",
        "The following sections shall first present the most basic techniques, which involve independent events (this applies in particular for gambling and stateless systems).\n",
        "Then, following sections will involve interdependent events by introducing variable binding and conditional probabilities. Note that more complex situations requiring joint probability tables, conditional probability tables, Bayesian networks and Markov chains are covered in the [advanced tutorial of Lea](http://bitbucket.org/piedenis/lea/wiki/Lea3_Tutorial_2)."
      ]
    },
    {
      "cell_type": "markdown",
      "metadata": {
        "id": "90",
        "colab_type": "text"
      },
      "source": [
        "## Arithmetic operations\n",
        "\n",
        "One of the most common way to combine probability distributions together is to use the usual arithmetic operations. In Lea, all arithmetic operators are overloaded. So when you add, subtract, etc. probability distributions together, you get a new probability distribution.\n",
        "\n",
        "The most simple cases consist in operating with constant operands, like in the following cases:\n",
        "\n",
        "* Subtracting 3 from the result of a die:"
      ]
    },
    {
      "cell_type": "code",
      "metadata": {
        "id": "91",
        "colab_type": "code",
        "colab": {}
      },
      "source": [
        "die1 = lea.vals(1,2,3,4,5,6)\n",
        "die1 - 3"
      ],
      "execution_count": 0,
      "outputs": []
    },
    {
      "cell_type": "markdown",
      "metadata": {
        "id": "92",
        "colab_type": "text"
      },
      "source": [
        "\n",
        "* Dividing the result of a die by 3, truncated to integers"
      ]
    },
    {
      "cell_type": "code",
      "metadata": {
        "id": "93",
        "colab_type": "code",
        "colab": {}
      },
      "source": [
        "die1 // 3"
      ],
      "execution_count": 0,
      "outputs": []
    },
    {
      "cell_type": "markdown",
      "metadata": {
        "id": "94",
        "colab_type": "text"
      },
      "source": [
        "\n",
        "* Taking the residue of a die result modulo 2 (i.e. the parity bit)"
      ]
    },
    {
      "cell_type": "code",
      "metadata": {
        "id": "95",
        "colab_type": "code",
        "colab": {}
      },
      "source": [
        "die1 % 2"
      ],
      "execution_count": 0,
      "outputs": []
    },
    {
      "cell_type": "markdown",
      "metadata": {
        "id": "96",
        "colab_type": "text"
      },
      "source": [
        "These last two examples show that the number of values of the resulting distributions can be lower than the one in the distribution passed to the function. This is without surprise since several values can be mapped to the same resulting value.\n",
        "\n",
        "Note that Lea just propagates the given operator on the values, without putting any control on it (this actually follows \"Duck Typing\" philosophy of Python. This means for example that you could play with `+` and `*` operator on strings:"
      ]
    },
    {
      "cell_type": "code",
      "metadata": {
        "id": "97",
        "colab_type": "code",
        "colab": {}
      },
      "source": [
        "flip = lea.vals('Head','Tail')\n",
        "'This is ' + flip"
      ],
      "execution_count": 0,
      "outputs": []
    },
    {
      "cell_type": "code",
      "metadata": {
        "id": "Y7acun28-g-d",
        "colab_type": "code",
        "colab": {}
      },
      "source": [
        "die * 'X'"
      ],
      "execution_count": 0,
      "outputs": []
    },
    {
      "cell_type": "markdown",
      "metadata": {
        "id": "98",
        "colab_type": "text"
      },
      "source": [
        "If the propagated operator raises an exception for some value, then the calculation is aborted and the exception is raised. This happens for example with a division by 0."
      ]
    },
    {
      "cell_type": "code",
      "metadata": {
        "id": "99",
        "colab_type": "code",
        "colab": {}
      },
      "source": [
        "1 / (die1-1)\n",
        "# -> ZeroDivisionError: division by zero"
      ],
      "execution_count": 0,
      "outputs": []
    },
    {
      "cell_type": "markdown",
      "metadata": {
        "id": "100",
        "colab_type": "text"
      },
      "source": [
        "\n",
        "So far, we have combined probability distributions with constants. More interesting things happen when you combine probability distributions together. To get the distribution resulting from the sum of two dice, you may be tempted to do this:"
      ]
    },
    {
      "cell_type": "code",
      "metadata": {
        "id": "101",
        "colab_type": "code",
        "colab": {}
      },
      "source": [
        "die1 + die1"
      ],
      "execution_count": 0,
      "outputs": []
    },
    {
      "cell_type": "markdown",
      "metadata": {
        "id": "102",
        "colab_type": "text"
      },
      "source": [
        "but you get actually the same result as `2*die1`, which is obviously not the distribution you expect. The reason shall be explained later, in the section about referential consistency. To get the right result, you have to create a new die instance, either by issuing a new `vals(...)` expression or, simpler, by \"cloning\" the first die using the `new` method:"
      ]
    },
    {
      "cell_type": "code",
      "metadata": {
        "id": "103",
        "colab_type": "code",
        "colab": {}
      },
      "source": [
        "die2 = die1.new()"
      ],
      "execution_count": 0,
      "outputs": []
    },
    {
      "cell_type": "markdown",
      "metadata": {
        "id": "104",
        "colab_type": "text"
      },
      "source": [
        "Note that `die2 = die1` assignment is not adequate because `die2` would then refer to the same object as `die1`, hence the same event (remember that, in Python, an assignment is just a binding between a name and an object). After using `.new()`, `die2` represents a second die having the same probability distribution as `die1` but representing an event independent of the throw of the first die. Then, the following statement produces the distribution of the sum of dice."
      ]
    },
    {
      "cell_type": "code",
      "metadata": {
        "id": "105",
        "colab_type": "code",
        "colab": {}
      },
      "source": [
        "die1 + die2"
      ],
      "execution_count": 0,
      "outputs": []
    },
    {
      "cell_type": "code",
      "metadata": {
        "id": "K9CaIQ43_Ktp",
        "colab_type": "code",
        "colab": {}
      },
      "source": [
        "dice = die1 + die2\n",
        "dice.plot()"
      ],
      "execution_count": 0,
      "outputs": []
    },
    {
      "cell_type": "markdown",
      "metadata": {
        "id": "106",
        "colab_type": "text"
      },
      "source": [
        "Actually, as you could expect it, the expression has been used behind the scene to browse all the pairs from the values of the two dice values; these pairs have been reduced by addition and the probabilities of occurrences of each sum value have been added together. We see in particular that the probability of 7 is 1/6, and the probability of 12 is 1/36.\n",
        "\n",
        "You can then easily make the same to subtract, multiply, â€¦ dice together. You could also add probability distributions with strings, in order to see the possible combinations:"
      ]
    },
    {
      "cell_type": "code",
      "metadata": {
        "id": "107",
        "colab_type": "code",
        "colab": {}
      },
      "source": [
        "flip2 = flip.new()\n",
        "flip + '-' + flip2"
      ],
      "execution_count": 0,
      "outputs": []
    },
    {
      "cell_type": "markdown",
      "metadata": {
        "id": "108",
        "colab_type": "text"
      },
      "source": [
        "or invent strange new games:"
      ]
    },
    {
      "cell_type": "code",
      "metadata": {
        "id": "109",
        "colab_type": "code",
        "colab": {}
      },
      "source": [
        "(1 + die1//3) * flip"
      ],
      "execution_count": 0,
      "outputs": []
    },
    {
      "cell_type": "markdown",
      "metadata": {
        "id": "110",
        "colab_type": "text"
      },
      "source": [
        "\n",
        "If you want to create several independent random variables, each having the same probability distributions, then you can specify the required number of instances to the `new` method: this will return a tuple with the required objects:"
      ]
    },
    {
      "cell_type": "code",
      "metadata": {
        "id": "111",
        "colab_type": "code",
        "colab": {}
      },
      "source": [
        "(die2,die3,die4) = die1.new(3)"
      ],
      "execution_count": 0,
      "outputs": []
    },
    {
      "cell_type": "markdown",
      "metadata": {
        "id": "113",
        "colab_type": "text"
      },
      "source": [
        "## Repeating operations (`times` method)\n",
        "\n",
        "Since repeating the same random process multiple times, Lea provides a convenience method to that that job easily.\n",
        "\n",
        "Consider the following problem: what is the probability of getting a total of 16 when throwing 4 dice?\n",
        "\n",
        "From the techniques seen so far, you could write:"
      ]
    },
    {
      "cell_type": "code",
      "metadata": {
        "id": "114",
        "colab_type": "code",
        "colab": {}
      },
      "source": [
        "dice_5 = die1 + die1.new() + die1.new() + die1.new() + die1.new()\n",
        "dice_5.p(16)"
      ],
      "execution_count": 0,
      "outputs": []
    },
    {
      "cell_type": "markdown",
      "metadata": {
        "id": "115",
        "colab_type": "text"
      },
      "source": [
        "A shorter alternative to build `dice_5` could be to use the Python sum function, passing a 5-tuple created in one shot:"
      ]
    },
    {
      "cell_type": "code",
      "metadata": {
        "id": "116",
        "colab_type": "code",
        "colab": {}
      },
      "source": [
        "dice_5 = sum(die1.new(5))"
      ],
      "execution_count": 0,
      "outputs": []
    },
    {
      "cell_type": "markdown",
      "metadata": {
        "id": "117",
        "colab_type": "text"
      },
      "source": [
        "Actually, Lea provides a more powerful tool to do that sort of construction: the `times` method."
      ]
    },
    {
      "cell_type": "code",
      "metadata": {
        "id": "118",
        "colab_type": "code",
        "colab": {}
      },
      "source": [
        "dice_5 = die1.times(5)"
      ],
      "execution_count": 0,
      "outputs": []
    },
    {
      "cell_type": "markdown",
      "metadata": {
        "id": "119",
        "colab_type": "text"
      },
      "source": [
        "Note that this is not only shorter to write but also _faster to execute_: `times` method uses a dynamic programming technique, a dichotomic algorithm with far less calculations than the former naive expression. To illustrate that point, you may notice that Lea has no particular problem to calculate the probability distribution of 100 thrown dice:"
      ]
    },
    {
      "cell_type": "code",
      "metadata": {
        "id": "120",
        "colab_type": "code",
        "colab": {}
      },
      "source": [
        "die1.times(100)"
      ],
      "execution_count": 0,
      "outputs": []
    },
    {
      "cell_type": "markdown",
      "metadata": {
        "id": "121",
        "colab_type": "text"
      },
      "source": [
        "while the technique with `sum` above is already prohibitively long for adding 10 dice.\n",
        "\n",
        "By default, `times(n)` method performs additions. Any other two-ary operator or two-arguments function can be specified as a second argument. For instance, here is how you can get the probability that the _product_ of 4 thrown dice is 5:"
      ]
    },
    {
      "cell_type": "code",
      "metadata": {
        "id": "122",
        "colab_type": "code",
        "colab": {}
      },
      "source": [
        "from operator import mul\n",
        "die1.times(4,mul).p(5)"
      ],
      "execution_count": 0,
      "outputs": []
    },
    {
      "cell_type": "markdown",
      "metadata": {
        "id": "123",
        "colab_type": "text"
      },
      "source": [
        "_Note : This probability can be checked by noticing that 5 is a prime number : this means that it shall be reached only by one of 4 permutations of the form 1x1x1x5; hence, the probability is 4/6^4 = 1/324 = 0.003086[]()419753[]()086419._"
      ]
    },
    {
      "cell_type": "markdown",
      "metadata": {
        "id": "124",
        "colab_type": "text"
      },
      "source": [
        "## Comparison and logical operations\n",
        "\n",
        "Usual comparison operators may be used on any Lea instances, resulting in Boolean distributions giving the probabilities of each truth value."
      ]
    },
    {
      "cell_type": "code",
      "metadata": {
        "id": "125",
        "colab_type": "code",
        "colab": {}
      },
      "source": [
        "die1 == 4"
      ],
      "execution_count": 0,
      "outputs": []
    },
    {
      "cell_type": "code",
      "metadata": {
        "id": "7l0LPpakABV3",
        "colab_type": "code",
        "colab": {}
      },
      "source": [
        "die1 <= 4"
      ],
      "execution_count": 0,
      "outputs": []
    },
    {
      "cell_type": "markdown",
      "metadata": {
        "id": "126",
        "colab_type": "text"
      },
      "source": [
        "To get only the probability value that the expression is true, you can use the `P` function seen earlier (or `lea.P`):"
      ]
    },
    {
      "cell_type": "code",
      "metadata": {
        "id": "127",
        "colab_type": "code",
        "colab": {}
      },
      "source": [
        "P(die1 <= 4)"
      ],
      "execution_count": 0,
      "outputs": []
    },
    {
      "cell_type": "markdown",
      "metadata": {
        "id": "128",
        "colab_type": "text"
      },
      "source": [
        "Comparison operators may be used in expressions, as shown in the following examples involving the two independent dice."
      ]
    },
    {
      "cell_type": "code",
      "metadata": {
        "id": "129",
        "colab_type": "code",
        "colab": {}
      },
      "source": [
        "P(die1 < die2)"
      ],
      "execution_count": 0,
      "outputs": []
    },
    {
      "cell_type": "code",
      "metadata": {
        "id": "zNN5IW21AdPd",
        "colab_type": "code",
        "colab": {}
      },
      "source": [
        "P(die1 <= die2)"
      ],
      "execution_count": 0,
      "outputs": []
    },
    {
      "cell_type": "code",
      "metadata": {
        "id": "62dHi8wvAc_a",
        "colab_type": "code",
        "colab": {}
      },
      "source": [
        "P(die1 == die2)"
      ],
      "execution_count": 0,
      "outputs": []
    },
    {
      "cell_type": "code",
      "metadata": {
        "id": "OPabVj2SAcsz",
        "colab_type": "code",
        "colab": {}
      },
      "source": [
        "P(die1 != die2)"
      ],
      "execution_count": 0,
      "outputs": []
    },
    {
      "cell_type": "markdown",
      "metadata": {
        "id": "130",
        "colab_type": "text"
      },
      "source": [
        "The first example (`P(die1 < die2)`) shows that, after throwing two dice, there are 0.416666 chances that one _given_ die has a value strictly less than the other's. This assumes that you are able to distinguish between the two dice, for example using colors (e.g. green die + blue die). If you make no difference between dice, then the probability that one of them is strictly less than the other is 0.833333, as shown in the last example (`P(die1 != die2)`).\n",
        "\n",
        "Logical operators (NOT, AND, OR, XOR) can be used to combine boolean probability distributions together. These are detailed in the following table, where `a` and `b` are standing for any expressions returning Lea boolean distributions:\n",
        "\n",
        "| **Lea expression** | **meaning** |\n",
        "|--------------------|-------------|\n",
        "| `~a`               | not `a`     |\n",
        "| `a & b`            | `a` and `b` |\n",
        "| `a｜b`           | `a` or `b`  |\n",
        "| `a ^ b`            | `a` xor `b` |\n",
        "\n",
        "Examples:"
      ]
    },
    {
      "cell_type": "code",
      "metadata": {
        "id": "131",
        "colab_type": "code",
        "colab": {}
      },
      "source": [
        "P(~(die1 == 3))"
      ],
      "execution_count": 0,
      "outputs": []
    },
    {
      "cell_type": "code",
      "metadata": {
        "id": "i6HBVyLqBBaH",
        "colab_type": "code",
        "colab": {}
      },
      "source": [
        "P((die1 == 4) & (die2 == 2))"
      ],
      "execution_count": 0,
      "outputs": []
    },
    {
      "cell_type": "code",
      "metadata": {
        "id": "U9E4g-ZoBBMA",
        "colab_type": "code",
        "colab": {}
      },
      "source": [
        "P((die1 <= 3) & (die2 > 3))"
      ],
      "execution_count": 0,
      "outputs": []
    },
    {
      "cell_type": "markdown",
      "metadata": {
        "id": "132",
        "colab_type": "text"
      },
      "source": [
        "\n",
        "WARNINGS:\n",
        "\n",
        "* Due to Python precedence rules, it is required to embed expressions connected by logical operators with parentheses. If parentheses are missing, an exception shall be raised.\n",
        "\n",
        "* The Python's augmented comparison between Lea instances (e.g. _a_ < _b_ < _c_) DOES NOT WORK! Actually, for several technical reasons related to Python design, such expressions do not (and cannot) return any sensible result. These can be replaced by using a logical AND (e.g. (_a_ < _b_) & (_b_ < _c_) ). You can find an example of this at the end of the section on referential consistency).\n",
        "\n",
        "For testing the equality of distribution against a set of given values, the `is_any_of(...)` method should be helpful as alternative to ORing equalities. As an example, here is how to calculate the probability of a \"craps\":"
      ]
    },
    {
      "cell_type": "code",
      "metadata": {
        "id": "133",
        "colab_type": "code",
        "colab": {}
      },
      "source": [
        "dice = die1 + die2\n",
        "P(dice.is_any_of(2,3,12))"
      ],
      "execution_count": 0,
      "outputs": []
    },
    {
      "cell_type": "markdown",
      "metadata": {
        "id": "134",
        "colab_type": "text"
      },
      "source": [
        "For convenience, the method `is_none_of(...)` calculates the inverse distribution of `is_any_of(...)`:"
      ]
    },
    {
      "cell_type": "code",
      "metadata": {
        "id": "135",
        "colab_type": "code",
        "colab": {}
      },
      "source": [
        "P(dice.is_none_of(2,3,12))"
      ],
      "execution_count": 0,
      "outputs": []
    },
    {
      "cell_type": "markdown",
      "metadata": {
        "id": "137",
        "colab_type": "text"
      },
      "source": [
        "## Applying functions (`map` method, `func_wrapper`, `min_of`, `max_of` functions)\n",
        "\n",
        "If you need special processing beyond arithmetic or logical operator, you can apply a given function on the values of a probability distribution by using the `map` method; this builds a new probability distribution on the function results. As a dummy example, this is how to transform the integer values of a die into floating point numbers by invoking the standard Python `float` function:"
      ]
    },
    {
      "cell_type": "code",
      "metadata": {
        "id": "138",
        "colab_type": "code",
        "colab": {}
      },
      "source": [
        "die1.map(float)"
      ],
      "execution_count": 0,
      "outputs": []
    },
    {
      "cell_type": "markdown",
      "metadata": {
        "id": "139",
        "colab_type": "text"
      },
      "source": [
        "You could also use your own functions:"
      ]
    },
    {
      "cell_type": "code",
      "metadata": {
        "id": "140",
        "colab_type": "code",
        "colab": {}
      },
      "source": [
        "def parity(x):\n",
        "    if x%2 == 1:\n",
        "        return \"odd\"\n",
        "    return \"even\"\n",
        "    \n",
        "die1.map(parity)"
      ],
      "execution_count": 0,
      "outputs": []
    },
    {
      "cell_type": "markdown",
      "metadata": {
        "id": "141",
        "colab_type": "text"
      },
      "source": [
        "as well as chaining the calls to `map`:"
      ]
    },
    {
      "cell_type": "code",
      "metadata": {
        "id": "142",
        "colab_type": "code",
        "colab": {}
      },
      "source": [
        "die1.map(parity).map(len)"
      ],
      "execution_count": 0,
      "outputs": []
    },
    {
      "cell_type": "markdown",
      "metadata": {
        "id": "143",
        "colab_type": "text"
      },
      "source": [
        "\n",
        "If you need to call functions with multiple arguments, then you can simply add the arguments, starting from the second one, as `map`'s arguments. For example, suppose you want to determine the probability distribution resulting from keeping the die with the smallest value among two thrown dice. You could use the standard `min` function of Python:"
      ]
    },
    {
      "cell_type": "code",
      "metadata": {
        "id": "144",
        "colab_type": "code",
        "colab": {}
      },
      "source": [
        "die1.map(min,die2)"
      ],
      "execution_count": 0,
      "outputs": []
    },
    {
      "cell_type": "markdown",
      "metadata": {
        "id": "147",
        "colab_type": "text"
      },
      "source": [
        "Admittedly, this syntax is not the most readable. Ideally, the best would be to be able to write `min(die1,die2)`. Unfortunately, this raises an exception with the message \"Lea instance cannot be evaluated as a Boolean\". This rationale is that the `min` function tries to compare `die1` with `die2`, as if these were numbers: this does not return a boolean but a Lea instance with probabilities of True and False. Opportunely, Lea provides a remedy to this shortcoming: the function `func_wrapper` allows transforming `min` function into a Lea-aware function. Here is how it works:"
      ]
    },
    {
      "cell_type": "code",
      "metadata": {
        "id": "148",
        "colab_type": "code",
        "colab": {}
      },
      "source": [
        "min_lea = lea.func_wrapper(min)"
      ],
      "execution_count": 0,
      "outputs": []
    },
    {
      "cell_type": "markdown",
      "metadata": {
        "id": "149",
        "colab_type": "text"
      },
      "source": [
        "Now, you can use `min_lea` with Lea instances as arguments, as if it were the `min` function itself:"
      ]
    },
    {
      "cell_type": "code",
      "metadata": {
        "id": "150",
        "colab_type": "code",
        "colab": {}
      },
      "source": [
        "min_lea(die1,die2)"
      ],
      "execution_count": 0,
      "outputs": []
    },
    {
      "cell_type": "markdown",
      "metadata": {
        "id": "151",
        "colab_type": "text"
      },
      "source": [
        "So we obtain the same result found previously with `map` function but with a more readable notation. As with `min` function, you can have any number of arguments; you can also freely mix Lea instances with constant values:"
      ]
    },
    {
      "cell_type": "code",
      "metadata": {
        "id": "152",
        "colab_type": "code",
        "colab": {}
      },
      "source": [
        "min_lea(die1,4,2,3,die2)"
      ],
      "execution_count": 0,
      "outputs": []
    },
    {
      "cell_type": "markdown",
      "metadata": {
        "id": "153",
        "colab_type": "text"
      },
      "source": [
        "Because it is based on the all-purpose Python `min` function, `min_lea` works on other types than numerical types:"
      ]
    },
    {
      "cell_type": "code",
      "metadata": {
        "id": "154",
        "colab_type": "code",
        "colab": {}
      },
      "source": [
        "min_lea(flip,flip2)"
      ],
      "execution_count": 0,
      "outputs": []
    },
    {
      "cell_type": "markdown",
      "metadata": {
        "id": "155",
        "colab_type": "text"
      },
      "source": [
        "Actually, `min_lea` can be used on any probability distribution having values that can be compared together. In particular, you could use it with probability distribution on `datetime` objects, which is useful for planning models containing uncertainties (see [example](https://bitbucket.org/piedenis/lea/wiki/Lea3_Examples#markdown-header-job-scheduling-1-integration-with-datetime)).\n",
        "\n",
        "Because the need of `min` and `max` functions is common, Lea provides [prebuilt functions `lea.min_of` and `lea.max_of`](https://bitbucket.org/piedenis/lea/wiki/Lea3_Tutorial_3#markdown-header-min-max-functions-min_of-max_of-functions). Note that these functions scale poorly as the number of arguments grows; however, these two functions provide an optional argument that can dramatically speed up the calculation if you accept some constraints.\n",
        "\n",
        "\n",
        "# Referential consistency\n",
        "\n",
        "Before introducing conditional probabilities, it's now required to speak about the key concept of *referential consistency* in  Lea. It's important to understand this concept before going further in the tutorials. Despite the fact that it could be a bit surprising at the first sight, referential consistency is actually a very powerful idea.\n",
        "\n",
        "Let us re-consider a simple fair die:"
      ]
    },
    {
      "cell_type": "code",
      "metadata": {
        "id": "156",
        "colab_type": "code",
        "colab": {}
      },
      "source": [
        "die1 = lea.interval(1,6)"
      ],
      "execution_count": 0,
      "outputs": []
    },
    {
      "cell_type": "markdown",
      "metadata": {
        "id": "157",
        "colab_type": "text"
      },
      "source": [
        "We have seen before that the expression `die1 + die1` does *not* produce the probability distribution of the sum of two dice; what it returns is actually the same as `2 * die1`. You may observe also the following results:"
      ]
    },
    {
      "cell_type": "code",
      "metadata": {
        "id": "158",
        "colab_type": "code",
        "colab": {}
      },
      "source": [
        "die1 - die1\n",
        "2*die1 - die1 - die1\n",
        "3*die1 - die1 == 2*die1"
      ],
      "execution_count": 0,
      "outputs": []
    },
    {
      "cell_type": "markdown",
      "metadata": {
        "id": "159",
        "colab_type": "text"
      },
      "source": [
        "These result may sound strange, should you assume that Lea barely browse combinations of given probability distributions. Actually, Lea algorithm is designed to enforce a *referential consistency*. To state it simply: during evaluation, once a given variable (e.g. `die1`) is bound to a value (e.g. 1), this binding is the same for any occurrence of this variable. If you are knowledgeable in Probabilistic Programming research, you may remark that referential consistency is somehow related to *stochastic memoization*, as found for example in the Church language.\n",
        "\n",
        "Without giving too much details, let say that Lea performs \"lazy evaluation\": when it evaluates a given expression (like the ones given above), it first builds a data structure that models this expression without making any calculation nor combinatorial. This structure is actually a *direct acyclic graph* (DAG) where each node is either an elementary probability distribution or an operation to be performed on other nodes (addition, multiplication, etc.). If the given expression is used in other expressions, new graphs (also DAG) are built in turn, referring to the already built graphs. Then, when you ask to display results, the real calculation of the pmf takes place, using the built graph to browse and process the values with their probabilities. The referential consistency is enforced by taking care that each variable occurrence is represented by only one node in the graph, with possibly multiple nodes referring to it.\n",
        "\n",
        "These explanations should clarify the examples given above, even if the two stages (graph building and actual pmf calculation) are implicitly chained together, hence hidden. To better exhibit the mechanism, let us define three new variables for a model involving two dice:"
      ]
    },
    {
      "cell_type": "code",
      "metadata": {
        "id": "160",
        "colab_type": "code",
        "colab": {}
      },
      "source": [
        "die2 = die1.new()\n",
        "dice = die1 + die2"
      ],
      "execution_count": 0,
      "outputs": []
    },
    {
      "cell_type": "markdown",
      "metadata": {
        "id": "161",
        "colab_type": "text"
      },
      "source": [
        "Note that the sole way to make independent variable is either to use a Lea constructor (`pmf`, `vals`, `interval`, ...) or to copy an existing one using the `new` method."
      ]
    },
    {
      "cell_type": "code",
      "metadata": {
        "id": "162",
        "colab_type": "code",
        "colab": {}
      },
      "source": [
        "checkup = dice**2 - (die1**2 + 2*die1*die2 + die2**2)"
      ],
      "execution_count": 0,
      "outputs": []
    },
    {
      "cell_type": "markdown",
      "metadata": {
        "id": "163",
        "colab_type": "text"
      },
      "source": [
        "As explained above, since we did not ask to display anything yet, these three statements just build a graph connecting `die1`, `die2`, `dice` and `checkup` nodes together. Then, asking to evaluate `checkup` shall perform the actual pmf calculation:"
      ]
    },
    {
      "cell_type": "code",
      "metadata": {
        "id": "164",
        "colab_type": "code",
        "colab": {}
      },
      "source": [
        "checkup"
      ],
      "execution_count": 0,
      "outputs": []
    },
    {
      "cell_type": "markdown",
      "metadata": {
        "id": "165",
        "colab_type": "text"
      },
      "source": [
        "The result is 0 with probability 1, as you can expect it from the algebra rule for squaring a sum. Remark that this result is not obtained by a symbolic algebraic engine (like [SymPy](http://www.sympy.org)) but, more humbly, from processing the 6x6 = 36 combinations for the values of `die1` and `die2`. Thanks to the referential consistency, you may build many other examples that are consistent with algebra rules, logical rules, theorems, etc. In essence, each variable \"remembers\" how it is built, keeping references to dependant variables. Only elementary variables, such as the ones built with `lea.pmf` methods are independent.\n",
        "\n",
        "Note that the object returned by `x.new()` is NOT a _clone_ of `x`. If `x` depends of other variables `a`, `b`, `c`, ... , then `x.new()` first evaluates the pmf of `x`, then it stores this pmf as it was an event independent of `x`, `a`, `b`, `c`, ... You can experience this if you invoke, for instance, `dice.new()`. For cloning Lea instances, while sharing dependencies, you may use the [`clone` method](http://bitbucket.org/piedenis/lea/wiki/Lea3_Tutorial_4#markdown-header-bayesian-learning).\n",
        "\n",
        "Of course, all the contrived examples seen above are of no real use: they simply show that Lea is consistent with known mathematical rules. The referential consistency brings added value for specific problem like evaluating the probability that a given random variable is within a given range: we have warned before that augmented assignment like `P(4 <= dice < 10)` does not work and shall be replaced by a conjunction of two inequalities:"
      ]
    },
    {
      "cell_type": "code",
      "metadata": {
        "id": "166",
        "colab_type": "code",
        "colab": {}
      },
      "source": [
        "P((4 <= dice) & (dice < 10))"
      ],
      "execution_count": 0,
      "outputs": []
    },
    {
      "cell_type": "markdown",
      "metadata": {
        "id": "167",
        "colab_type": "text"
      },
      "source": [
        "The referential consistency enforces that the two `dice` occurrences refer to the same random event, i.e. that only two dice are thrown, not four. Note that the same probability could be calculated in many other ways:"
      ]
    },
    {
      "cell_type": "code",
      "metadata": {
        "id": "168",
        "colab_type": "code",
        "colab": {}
      },
      "source": [
        "P((4 <= die1+die2) & (die1+die2 < 10))"
      ],
      "execution_count": 0,
      "outputs": []
    },
    {
      "cell_type": "code",
      "metadata": {
        "id": "g3YIj-X6G_0t",
        "colab_type": "code",
        "colab": {}
      },
      "source": [
        "P((4 <= dice) & (die1 < 10-die2))"
      ],
      "execution_count": 0,
      "outputs": []
    },
    {
      "cell_type": "markdown",
      "metadata": {
        "id": "169",
        "colab_type": "text"
      },
      "source": [
        "Beside these cases, the real interest of referential consistency shall appear in the following section, which covers conditional probabilities, as well as in the [advanced tutorial of Lea](http://bitbucket.org/piedenis/lea/wiki/Lea3_Tutorial_2), in particular when dealing with Bayesian inference."
      ]
    },
    {
      "cell_type": "markdown",
      "metadata": {
        "id": "UFzK7kuoHTnU",
        "colab_type": "text"
      },
      "source": [
        "# Conditional probabilities (`given` method)\n",
        "\n",
        "Lea provides several mechanisms to cope with conditional probabilities. We shall cover here the simplest one, which is _calculating_ condition probabilities involving dependent random events. The problem of _setting_ explicit conditional probabilities and calculating new probabilities thereof is more involved; it is covered in [the \"Bayes reasoning\" section of the advanced tutorial](http://bitbucket.org/piedenis/lea/wiki/Lea3_Tutorial_2#markdown-header-bayesian-reasoning).\n",
        "\n",
        "So, we study here the calculation of conditional probabilities, that is revising a prior probability distribution `x` based on a given evidence `e`. The syntax to calculate the revised probability distribution is:\n",
        "\n",
        "`x.given(e)`"
      ]
    },
    {
      "cell_type": "markdown",
      "metadata": {
        "id": "171",
        "colab_type": "text"
      },
      "source": [
        "The sole requirements are that `e`\n",
        "- shall be a condition expressed as a Boolean probability distribution\n",
        "- shall have a non-null probability to be true (i.e. `e` expresses something feasible).\n",
        "Should these requirements be not fulfilled, an exception will be raised).\n",
        "\n",
        "As a first example, imagine that your friend Nancy calls you by phone; she tells you\n",
        "> \"*Hi, you! I just threw two dice. Can you guess the result?*\"\n",
        "\n",
        "She tells you also\n",
        "> \"*Here is a tip: the result is not higher than 6!*\".\n",
        "\n",
        "OK, calm down! Let us first calculate the prior probabilities for the two dice. Nothing new here:"
      ]
    },
    {
      "cell_type": "code",
      "metadata": {
        "id": "172",
        "colab_type": "code",
        "colab": {}
      },
      "source": [
        "die1 = lea.interval(1,6)\n",
        "die2 = die1.new()\n",
        "dice = die1 + die2"
      ],
      "execution_count": 0,
      "outputs": []
    },
    {
      "cell_type": "markdown",
      "metadata": {
        "id": "173",
        "colab_type": "text"
      },
      "source": [
        "Now, you shall revise the distribution of `dice` to include the fact given by Nancy that the result is less or equal to 6."
      ]
    },
    {
      "cell_type": "code",
      "metadata": {
        "id": "174",
        "colab_type": "code",
        "colab": {}
      },
      "source": [
        "revised_dice = dice.given(dice <= 6)\n",
        "revised_dice"
      ],
      "execution_count": 0,
      "outputs": []
    },
    {
      "cell_type": "markdown",
      "metadata": {
        "id": "175",
        "colab_type": "text"
      },
      "source": [
        "The new distribution shows you the chances you have to guess the correct result, based on all the information you have. The best choice undoubtedly is to bet on the 6. Note that this calculation does not take into account the strategy used by Nancy to tell you the upper bound. If the actual result is 4, she could have told you other upper bounds, from 4 to 12. We suppose here that the strategy of Nancy, if any, is unknown; so, the sole evidence condition we have is that the upper bound is 6.\n",
        "\n",
        "It is important to note that there is not limitation on the prior distributions; in particular, it could be itself a condition. For example, here is how to calculate the probability that the dice result is greater than 4, provided that we know that it is less or equal to 6:"
      ]
    },
    {
      "cell_type": "code",
      "metadata": {
        "id": "176",
        "colab_type": "code",
        "colab": {}
      },
      "source": [
        "(dice >= 4).given(dice <= 6)"
      ],
      "execution_count": 0,
      "outputs": []
    },
    {
      "cell_type": "markdown",
      "metadata": {
        "id": "177",
        "colab_type": "text"
      },
      "source": [
        "or, equivalently,"
      ]
    },
    {
      "cell_type": "code",
      "metadata": {
        "id": "178",
        "colab_type": "code",
        "colab": {}
      },
      "source": [
        "revised_dice >= 4"
      ],
      "execution_count": 0,
      "outputs": []
    },
    {
      "cell_type": "markdown",
      "metadata": {
        "id": "179",
        "colab_type": "text"
      },
      "source": [
        "Note how this differs from the prior probability that the results is in the range [4,6], assuming nothing else is known:"
      ]
    },
    {
      "cell_type": "code",
      "metadata": {
        "id": "180",
        "colab_type": "code",
        "colab": {}
      },
      "source": [
        "(4 <= dice) & (dice <= 6)"
      ],
      "execution_count": 0,
      "outputs": []
    },
    {
      "cell_type": "markdown",
      "metadata": {
        "id": "181",
        "colab_type": "text"
      },
      "source": [
        "Actually, the `given` construct is closely related to the definition of conditional probability: in particular, if `x` is a Boolean probability distribution, then the following equality should stand:\n",
        "\n",
        "`P(x.given(e)) == P(x & e) / P(e)`"
      ]
    },
    {
      "cell_type": "markdown",
      "metadata": {
        "id": "183",
        "colab_type": "text"
      },
      "source": [
        "Let us verify this on the example:"
      ]
    },
    {
      "cell_type": "code",
      "metadata": {
        "id": "184",
        "colab_type": "code",
        "colab": {}
      },
      "source": [
        "P((dice >= 4).given(dice <= 6))"
      ],
      "execution_count": 0,
      "outputs": []
    },
    {
      "cell_type": "code",
      "metadata": {
        "id": "FmMp7RpDNG10",
        "colab_type": "code",
        "colab": {}
      },
      "source": [
        "P((dice >= 4) & (dice <= 6)) / P(dice <= 6)"
      ],
      "execution_count": 0,
      "outputs": []
    },
    {
      "cell_type": "markdown",
      "metadata": {
        "id": "185",
        "colab_type": "text"
      },
      "source": [
        "Note however that the previous equality is not the way `given` is implemented: `given` is not a simple convenience method, it uses a more efficient algorithm that eliminates evaluation of `x` for all cases where `e` is not satisfied. To convince yourself about this statement, you could try this:"
      ]
    },
    {
      "cell_type": "code",
      "metadata": {
        "id": "186",
        "colab_type": "code",
        "colab": {}
      },
      "source": [
        "P((die1 / (die2-1) == 2).given(die2 != 1))"
      ],
      "execution_count": 0,
      "outputs": []
    },
    {
      "cell_type": "markdown",
      "metadata": {
        "id": "187",
        "colab_type": "text"
      },
      "source": [
        "while, if you try the naive formula, supposingly equivalent,"
      ]
    },
    {
      "cell_type": "code",
      "metadata": {
        "id": "188",
        "colab_type": "code",
        "colab": {}
      },
      "source": [
        "P(((die1 / (die2-1) == 2) & (die2 != 1))) / P(die2 != 1)    # raise ZeroDivisionError"
      ],
      "execution_count": 0,
      "outputs": []
    },
    {
      "cell_type": "markdown",
      "metadata": {
        "id": "189",
        "colab_type": "text"
      },
      "source": [
        "you get a `ZeroDivisionError` because of the expression `die1 / (die2-1)` is calculated even for the cases where  `die2 == 1`.\n",
        "\n",
        "\n",
        "The technique seen above can be extended to cope with dependent random variables. We can evaluate the probability of dice sum, assuming we got -by any means- some certain information on each individual die.\n",
        "\n",
        "Examples:\n",
        "\n",
        "* assuming we know that the first die is 3:"
      ]
    },
    {
      "cell_type": "code",
      "metadata": {
        "id": "190",
        "colab_type": "code",
        "colab": {}
      },
      "source": [
        "dice.given(die1 == 3)"
      ],
      "execution_count": 0,
      "outputs": []
    },
    {
      "cell_type": "markdown",
      "metadata": {
        "id": "191",
        "colab_type": "text"
      },
      "source": [
        "\n",
        "* assuming we know that at least one of the die is 3:"
      ]
    },
    {
      "cell_type": "code",
      "metadata": {
        "id": "192",
        "colab_type": "code",
        "colab": {}
      },
      "source": [
        "dice.given((die1 == 3) | (die2 == 3))"
      ],
      "execution_count": 0,
      "outputs": []
    },
    {
      "cell_type": "markdown",
      "metadata": {
        "id": "193",
        "colab_type": "text"
      },
      "source": [
        "\n",
        "* assuming we know that the first die is strictly inferior to the second die:"
      ]
    },
    {
      "cell_type": "code",
      "metadata": {
        "id": "194",
        "colab_type": "code",
        "colab": {}
      },
      "source": [
        "dice.given(die1 < die2)"
      ],
      "execution_count": 0,
      "outputs": []
    },
    {
      "cell_type": "markdown",
      "metadata": {
        "id": "195",
        "colab_type": "text"
      },
      "source": [
        "\n",
        "* assuming we know that the first die is even and the second one is odd:"
      ]
    },
    {
      "cell_type": "code",
      "metadata": {
        "id": "196",
        "colab_type": "code",
        "colab": {}
      },
      "source": [
        "dice.given((die1%2 == 0) & (die2%2 == 1))"
      ],
      "execution_count": 0,
      "outputs": []
    },
    {
      "cell_type": "markdown",
      "metadata": {
        "id": "197",
        "colab_type": "text"
      },
      "source": [
        "There is a useful alternative to the ANDing conditions together. Actually, the `given` method accepts multiple 'evidence' arguments, which are ANDed together. For instance,"
      ]
    },
    {
      "cell_type": "code",
      "metadata": {
        "id": "198",
        "colab_type": "code",
        "colab": {}
      },
      "source": [
        "dice.given(die1%2 == 0, die2%2 == 1)"
      ],
      "execution_count": 0,
      "outputs": []
    },
    {
      "cell_type": "markdown",
      "metadata": {
        "id": "199",
        "colab_type": "text"
      },
      "source": [
        "produces the same result as above. Using this construct presents several advantages over ANDing conditions:\n",
        "\n",
        "1. The expression is simpler since parentheses can be removed.\n",
        "2. A set of conditions can be passed easily (with * prefix), which expresses more naturally a set of evidences.\n",
        "3. Performance can be improved greatly compared to ANDing evidences because the `given` method is optimized with *short-circuit evaluation*, i.e. the exploration can be pruned as soon as a condition is evaluated to false. Incidentally, it's advisable to put the conditions in an order where the less probable conditions are put first.\n",
        "\n",
        "The sole functional difference between the two approaches is that an exception rose could maybe not occur with the new technique, since some value combinations could be dropped due to short-circuit evaluation (this effect is the same with Python's `and`). This is illustrated below:"
      ]
    },
    {
      "cell_type": "code",
      "metadata": {
        "id": "200",
        "colab_type": "code",
        "colab": {}
      },
      "source": [
        "die1.given((2<=die1) & (6//(die1-1)==2))    # raise ZeroDivisionError"
      ],
      "execution_count": 0,
      "outputs": []
    },
    {
      "cell_type": "code",
      "metadata": {
        "id": "MxYoxZcVNfzA",
        "colab_type": "code",
        "colab": {}
      },
      "source": [
        "die1.given(2<=die1, 6//(die1-1)==2)"
      ],
      "execution_count": 0,
      "outputs": []
    },
    {
      "cell_type": "markdown",
      "metadata": {
        "id": "201",
        "colab_type": "text"
      },
      "source": [
        "Note how, in the previous examples, the `dice` variable \"remembers\" that it was built up from `die1` and `die2`. In the vocabulary of probability theory, we could say that the random variable modeled by `dice` is dependent of the random variables modeled by `die1` and `die2` (these last two being independent from each other). The [lazy evaluation technique explained above](#markdown-header-referential-consistency) allows taking into account the latest given information.\n",
        "\n",
        "Now, the fact that two random variables are dependent is a symmetric relationship: the probability of one die should be revised given information on the sum of dice. Assuming that we know that this sum is 4, without further information on the values of any individual die, we get the following probability distribution on the first die:"
      ]
    },
    {
      "cell_type": "code",
      "metadata": {
        "id": "202",
        "colab_type": "code",
        "colab": {}
      },
      "source": [
        "die1.given(dice == 4)"
      ],
      "execution_count": 0,
      "outputs": []
    },
    {
      "cell_type": "markdown",
      "metadata": {
        "id": "203",
        "colab_type": "text"
      },
      "source": [
        "This result is sensible since any value exceeding 3 for one die shall make the sum of two dice exceed 4.\n",
        "\n",
        "The `given` method shall be used extensively in the [\"Bayes reasoning\" section of tutorial [2/3]](Lea3_Tutorial_2#markdown-header-bayesian-reasoning). Note also that the `given` method has a more general flavor, allowing you to specify conditions that are not 100% sure - see [`given_prob` method in tutorial [3/3]](Lea3_Tutorial_3#markdown-header-revised-probability-distributions-given_prob-method).\n",
        "\n",
        "# Getting raw distribution data (`support`, `ps`,  `pmf_tuple`, `pmf_dict`, `cdf_tuple`, `cdf_dict` attributes)\n",
        "\n",
        "You may need at some stage to export calculated probability data to Python standard types. You may want for example to write these data on files, to process them in your own functions or to export them to other libraries. Lea provides several methods to get the distribution values and probabilities at once.\n",
        "\n",
        "Consider for example the following height distribution of a sample of smurfs:"
      ]
    },
    {
      "cell_type": "code",
      "metadata": {
        "id": "204",
        "colab_type": "code",
        "colab": {}
      },
      "source": [
        "heights = lea.pmf(((0.5,1),(1.0,2),(1.5,4),(2.0,5),(2.5,5),(3.0,2),(3.5,1)))\n",
        "heights"
      ],
      "execution_count": 0,
      "outputs": []
    },
    {
      "cell_type": "markdown",
      "metadata": {
        "id": "205",
        "colab_type": "text"
      },
      "source": [
        "From this probability distribution, you can get the following attributes:\n",
        "\n",
        "* `support`: a tuple containing only the values of the domain"
      ]
    },
    {
      "cell_type": "code",
      "metadata": {
        "id": "206",
        "colab_type": "code",
        "colab": {}
      },
      "source": [
        "heights.support"
      ],
      "execution_count": 0,
      "outputs": []
    },
    {
      "cell_type": "markdown",
      "metadata": {
        "id": "207",
        "colab_type": "text"
      },
      "source": [
        "\n",
        "* `ps`: a tuple containing only the probabilities"
      ]
    },
    {
      "cell_type": "code",
      "metadata": {
        "id": "208",
        "colab_type": "code",
        "colab": {}
      },
      "source": [
        "heights.ps"
      ],
      "execution_count": 0,
      "outputs": []
    },
    {
      "cell_type": "markdown",
      "metadata": {
        "id": "209",
        "colab_type": "text"
      },
      "source": [
        "\n",
        "* `pmf_tuple`: the probability mass function as a tuple containing of tuple pairs (v, P(x = v))"
      ]
    },
    {
      "cell_type": "code",
      "metadata": {
        "id": "210",
        "colab_type": "code",
        "colab": {}
      },
      "source": [
        "heights.pmf_tuple"
      ],
      "execution_count": 0,
      "outputs": []
    },
    {
      "cell_type": "markdown",
      "metadata": {
        "id": "211",
        "colab_type": "text"
      },
      "source": [
        "\n",
        "* `pmf_dict`: the probability mass function as an OrderedDict { v: P(x = v) }"
      ]
    },
    {
      "cell_type": "code",
      "metadata": {
        "id": "212",
        "colab_type": "code",
        "colab": {}
      },
      "source": [
        "heights.pmf_dict"
      ],
      "execution_count": 0,
      "outputs": []
    },
    {
      "cell_type": "markdown",
      "metadata": {
        "id": "213",
        "colab_type": "text"
      },
      "source": [
        "\n",
        "* `cdf_tuple`: the cumulative distributive function as a tuple containing of tuple pairs (v, P(x <= v))"
      ]
    },
    {
      "cell_type": "code",
      "metadata": {
        "id": "214",
        "colab_type": "code",
        "colab": {}
      },
      "source": [
        "heights.cdf_tuple"
      ],
      "execution_count": 0,
      "outputs": []
    },
    {
      "cell_type": "markdown",
      "metadata": {
        "id": "215",
        "colab_type": "text"
      },
      "source": [
        "\n",
        "* `cdf_dict`: the probability mass function as an OrderedDict { v: P(x <= v) }"
      ]
    },
    {
      "cell_type": "code",
      "metadata": {
        "id": "216",
        "colab_type": "code",
        "colab": {}
      },
      "source": [
        "heights.cdf_dict"
      ],
      "execution_count": 0,
      "outputs": []
    },
    {
      "cell_type": "markdown",
      "metadata": {
        "id": "217",
        "colab_type": "text"
      },
      "source": [
        "Note that the probability value returned by `cdf_tuple[-1][1]`, i.e. the probability of greatest element is always 1.0 (or something close to 1.0, in case of rounding error!). Note also that all pmf and cdf values above can be retrieved individually by using comparison operators:"
      ]
    },
    {
      "cell_type": "code",
      "metadata": {
        "id": "218",
        "colab_type": "code",
        "colab": {}
      },
      "source": [
        "P(heights == 2.0)"
      ],
      "execution_count": 0,
      "outputs": []
    },
    {
      "cell_type": "code",
      "metadata": {
        "id": "YEVKHzZKbaQI",
        "colab_type": "code",
        "colab": {}
      },
      "source": [
        "P(heights <= 2.0)"
      ],
      "execution_count": 0,
      "outputs": []
    },
    {
      "cell_type": "markdown",
      "metadata": {
        "id": "219",
        "colab_type": "text"
      },
      "source": [
        "**Important**: the returned data in tuples and OrderedDict are provided in an order consistent with the order of values returned by `support`. For instance, the first value of `ps` corresponds to the first value of `support`, etc. What is this order? If you've passed `ordered=True' in the constructor method, then the order used at construction is kept; otherwise, the order depends on the values:\n",
        "\n",
        "* if the values are sortable, then the values are sorted in increasing order (e.g. integers, floats, strings, ...),\n",
        "* if the values are not sortable, then an arbitrary order, consistent from call to call, is used (e.g. complexes, matrices, ...)"
      ]
    },
    {
      "cell_type": "markdown",
      "metadata": {
        "id": "220",
        "colab_type": "text"
      },
      "source": [
        "## JSON serialization\n",
        "\n",
        "An interesting application of the `pmf_tuple` attribute seen above consists in serializing a pmf in a string using the [JSON format](http://www.json.org/) (an idea of Gianpaolo Galli). Here is how to do that:"
      ]
    },
    {
      "cell_type": "code",
      "metadata": {
        "id": "221",
        "colab_type": "code",
        "colab": {}
      },
      "source": [
        "import json\n",
        "heights_json = json.dumps(heights.pmf_tuple)"
      ],
      "execution_count": 0,
      "outputs": []
    },
    {
      "cell_type": "markdown",
      "metadata": {
        "id": "222",
        "colab_type": "text"
      },
      "source": [
        "`heights_json` is a string in JSON format, that is is easily readable:"
      ]
    },
    {
      "cell_type": "code",
      "metadata": {
        "id": "223",
        "colab_type": "code",
        "colab": {}
      },
      "source": [
        "heights_json"
      ],
      "execution_count": 0,
      "outputs": []
    },
    {
      "cell_type": "markdown",
      "metadata": {
        "id": "224",
        "colab_type": "text"
      },
      "source": [
        "You may then store this string in a text file or a DB; you may also send it on a network using some transport protocol. To get the Lea instance back, you have to deserialize the JSON string and pass the tuple to `lea.pmf` function. This is made in a simple one-liner:"
      ]
    },
    {
      "cell_type": "code",
      "metadata": {
        "id": "225",
        "colab_type": "code",
        "colab": {}
      },
      "source": [
        "heights2 = lea.pmf(json.loads(heights_json))\n",
        "heights2"
      ],
      "execution_count": 0,
      "outputs": []
    },
    {
      "cell_type": "markdown",
      "metadata": {
        "colab_type": "text",
        "id": "F1Uy53LVOk7H"
      },
      "source": [
        "\n",
        "# What's next?\n",
        "\n",
        "Thank you for reading the present Jupyter notebook tutorial! We hope that you found it enough clear and informative.\n",
        "\n",
        "You should be able now to define your own probability distributions and combine them to model many phenomena with uncertainties. You can find more examples in the [Examples page](http://bitbucket.org/piedenis/lea/wiki/Lea3_Examples).\n",
        "\n",
        "However, Lea can do many, many more than the topics explained on the present notebook! If you are looking for advanced topics, jump to\n",
        "\n",
        "* [tutorial [2/3]](http://bitbucket.org/piedenis/lea/wiki/Lea3_Tutorial_2) - standard distributions, changing probability representation, joint distributions, Bayesian networks, Markov chains, ...\n",
        "* [tutorial [3/3]](http://bitbucket.org/piedenis/lea/wiki/Lea3_Tutorial_3) - plotting, drawing without replacement, machine learning, information theory, MC estimation, symbolic calculation, ...\n",
        "\n",
        "For enhancements or bugs, please [create issues on bitbucket Lea page](http://bitbucket.org/piedenis/lea/issues).\n",
        "\n",
        "Feel free also to send an e-mail to [pie.denis@skynet.be](mailto:pie.denis@skynet.be) (English or French spoken). Use cases of Lea in _your_ projects/researches are especially appreciated! A \"references\" page listing the projects using Lea could greatly improve the reputation of the library."
      ]
    }
  ]
}