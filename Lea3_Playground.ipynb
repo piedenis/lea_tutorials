{
  "nbformat": 4,
  "nbformat_minor": 0,
  "metadata": {
    "colab": {
      "name": "lea_playground.ipynb",
      "provenance": [],
      "collapsed_sections": []
    },
    "kernelspec": {
      "name": "python3",
      "display_name": "Python 3"
    }
  },
  "cells": [
    {
      "cell_type": "markdown",
      "metadata": {
        "id": "1"
      },
      "source": [
        "![image:Lea2_logo.png](http://bitbucket.org/repo/BpoAoj/images/719424726-Lea2_logo.png)\n",
        "\n",
        "# Lea Playground\n",
        "\n",
        "Welcome in Lea Playground! In the present Jupyter Notebook, you can make experiments in probability theory and probabilistic programming using the [Lea package](http://bitbucket.org/piedenis/lea/src/dev_lea3/)."
      ]
    },
    {
      "cell_type": "code",
      "metadata": {
        "id": "Hezeo8KCj-1t"
      },
      "source": [
        "from lea import *\n",
        "from lea import __version__\n",
        "print (\"Using Lea\",__version__)"
      ],
      "execution_count": null,
      "outputs": []
    },
    {
      "cell_type": "code",
      "metadata": {
        "id": "iTqfPTPy9_hJ"
      },
      "source": [
        "pmf({ \"HEAD\": 0.5 ,\n",
        "      \"TAIL\": 0.5 })"
      ],
      "execution_count": null,
      "outputs": []
    }
  ]
}