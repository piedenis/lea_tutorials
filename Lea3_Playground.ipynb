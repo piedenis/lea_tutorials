{
  "nbformat": 4,
  "nbformat_minor": 0,
  "metadata": {
    "colab": {
      "name": "Lea3_Playground.ipynb",
      "provenance": [],
      "collapsed_sections": []
    },
    "kernelspec": {
      "name": "python3",
      "display_name": "Python 3"
    }
  },
  "cells": [
    {
      "cell_type": "markdown",
      "metadata": {
        "id": "1"
      },
      "source": [
        "![lea3_small_logo.png](https://bitbucket.org/repo/G6og5X7/images/3073142917-lea3_small_logo.png) Welcome in ***Lea Playground***! \n",
        "In the present online Jupyter Notebook, you can make experiments in probability theory and probabilistic programming using the [Lea package](http://bitbucket.org/piedenis/lea/src/dev_lea3/). Lea is based on [Python](http//www.python.org/) but only a basic knowledge of this language is usually required.\n",
        "\n",
        "The present environment gives you access to *all* functions of Lea, with all packages preinstalled. Yes, this includes plotting and symbolic computation (see example below)!\n",
        "\n",
        "**Instructions**: Execute this first:"
      ]
    },
    {
      "cell_type": "code",
      "metadata": {
        "id": "Hezeo8KCj-1t"
      },
      "source": [
        "from lea import *; import lea; print (\"Using Lea\",license.VER)"
      ],
      "execution_count": null,
      "outputs": []
    },
    {
      "cell_type": "markdown",
      "metadata": {
        "id": "-jn4qUOp6xbw"
      },
      "source": [
        "Now, execute/change the statements below (check out [Lea tutorial](http://bitbucket.org/piedenis/lea/wiki/Home)). Feel free to experiment!"
      ]
    },
    {
      "cell_type": "code",
      "metadata": {
        "id": "iTqfPTPy9_hJ"
      },
      "source": [
        "flip = pmf({ \"HEAD\": 0.5 ,\n",
        "             \"TAIL\": 0.5 })\n",
        "print (flip)\n",
        "flip.plot()"
      ],
      "execution_count": null,
      "outputs": []
    },
    {
      "cell_type": "code",
      "metadata": {
        "id": "B9EeIXGb_BLj"
      },
      "source": [
        "x = binom(4,'p')\n",
        "P(x==2)"
      ],
      "execution_count": null,
      "outputs": []
    }
  ]
}